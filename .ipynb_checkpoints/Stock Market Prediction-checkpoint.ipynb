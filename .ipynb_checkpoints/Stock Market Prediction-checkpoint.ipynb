{
 "cells": [
  {
   "cell_type": "code",
   "execution_count": 276,
   "metadata": {},
   "outputs": [
    {
     "name": "stdout",
     "output_type": "stream",
     "text": [
      "Default GPU Device: /device:GPU:0\n"
     ]
    }
   ],
   "source": [
    "import pandas as pd\n",
    "import numpy as np\n",
    "from sklearn.preprocessing import MinMaxScaler\n",
    "\n",
    "import tensorflow as tf\n",
    "if tf.test.gpu_device_name():\n",
    "    print('Default GPU Device: {}'.format(tf.test.gpu_device_name()))\n",
    "else:\n",
    "    print(\"Please install GPU version of TF\")\n",
    "\n",
    "from keras.models import Sequential\n",
    "from keras.layers import Dense\n",
    "from keras.layers import LSTM\n",
    "from keras.layers import Dropout\n",
    "import keras.callbacks\n",
    "from keras.layers import Conv1D\n",
    "from keras.layers import Bidirectional\n",
    "from keras.layers import Flatten\n",
    "from keras.layers import MaxPooling1D\n",
    "\n",
    "from sklearn.metrics import mean_squared_error\n",
    "from math import sqrt"
   ]
  },
  {
   "cell_type": "code",
   "execution_count": 360,
   "metadata": {},
   "outputs": [],
   "source": [
    "data = pd.read_csv(\"Data/aapl.us.txt\")"
   ]
  },
  {
   "cell_type": "code",
   "execution_count": 361,
   "metadata": {
    "scrolled": false
   },
   "outputs": [
    {
     "data": {
      "text/html": [
       "<div>\n",
       "<style scoped>\n",
       "    .dataframe tbody tr th:only-of-type {\n",
       "        vertical-align: middle;\n",
       "    }\n",
       "\n",
       "    .dataframe tbody tr th {\n",
       "        vertical-align: top;\n",
       "    }\n",
       "\n",
       "    .dataframe thead th {\n",
       "        text-align: right;\n",
       "    }\n",
       "</style>\n",
       "<table border=\"1\" class=\"dataframe\">\n",
       "  <thead>\n",
       "    <tr style=\"text-align: right;\">\n",
       "      <th></th>\n",
       "      <th>Date</th>\n",
       "      <th>Open</th>\n",
       "      <th>High</th>\n",
       "      <th>Low</th>\n",
       "      <th>Close</th>\n",
       "      <th>Volume</th>\n",
       "      <th>OpenInt</th>\n",
       "    </tr>\n",
       "  </thead>\n",
       "  <tbody>\n",
       "    <tr>\n",
       "      <th>0</th>\n",
       "      <td>1984-09-07</td>\n",
       "      <td>0.42388</td>\n",
       "      <td>0.42902</td>\n",
       "      <td>0.41874</td>\n",
       "      <td>0.42388</td>\n",
       "      <td>23220030</td>\n",
       "      <td>0</td>\n",
       "    </tr>\n",
       "    <tr>\n",
       "      <th>1</th>\n",
       "      <td>1984-09-10</td>\n",
       "      <td>0.42388</td>\n",
       "      <td>0.42516</td>\n",
       "      <td>0.41366</td>\n",
       "      <td>0.42134</td>\n",
       "      <td>18022532</td>\n",
       "      <td>0</td>\n",
       "    </tr>\n",
       "    <tr>\n",
       "      <th>2</th>\n",
       "      <td>1984-09-11</td>\n",
       "      <td>0.42516</td>\n",
       "      <td>0.43668</td>\n",
       "      <td>0.42516</td>\n",
       "      <td>0.42902</td>\n",
       "      <td>42498199</td>\n",
       "      <td>0</td>\n",
       "    </tr>\n",
       "    <tr>\n",
       "      <th>3</th>\n",
       "      <td>1984-09-12</td>\n",
       "      <td>0.42902</td>\n",
       "      <td>0.43157</td>\n",
       "      <td>0.41618</td>\n",
       "      <td>0.41618</td>\n",
       "      <td>37125801</td>\n",
       "      <td>0</td>\n",
       "    </tr>\n",
       "    <tr>\n",
       "      <th>4</th>\n",
       "      <td>1984-09-13</td>\n",
       "      <td>0.43927</td>\n",
       "      <td>0.44052</td>\n",
       "      <td>0.43927</td>\n",
       "      <td>0.43927</td>\n",
       "      <td>57822062</td>\n",
       "      <td>0</td>\n",
       "    </tr>\n",
       "  </tbody>\n",
       "</table>\n",
       "</div>"
      ],
      "text/plain": [
       "         Date     Open     High      Low    Close    Volume  OpenInt\n",
       "0  1984-09-07  0.42388  0.42902  0.41874  0.42388  23220030        0\n",
       "1  1984-09-10  0.42388  0.42516  0.41366  0.42134  18022532        0\n",
       "2  1984-09-11  0.42516  0.43668  0.42516  0.42902  42498199        0\n",
       "3  1984-09-12  0.42902  0.43157  0.41618  0.41618  37125801        0\n",
       "4  1984-09-13  0.43927  0.44052  0.43927  0.43927  57822062        0"
      ]
     },
     "execution_count": 361,
     "metadata": {},
     "output_type": "execute_result"
    }
   ],
   "source": [
    "data.head()"
   ]
  },
  {
   "cell_type": "code",
   "execution_count": 362,
   "metadata": {},
   "outputs": [
    {
     "data": {
      "text/plain": [
       "(8364, 7)"
      ]
     },
     "execution_count": 362,
     "metadata": {},
     "output_type": "execute_result"
    }
   ],
   "source": [
    "data.shape"
   ]
  },
  {
   "cell_type": "code",
   "execution_count": 370,
   "metadata": {},
   "outputs": [],
   "source": [
    "data_train = data.iloc[6500:8000, 1:2].values\n",
    "data_test = pd.DataFrame(data.iloc[8000:, 1:2].values)"
   ]
  },
  {
   "cell_type": "code",
   "execution_count": 470,
   "metadata": {},
   "outputs": [],
   "source": [
    "data_full = data.iloc[:, 1:2]"
   ]
  },
  {
   "cell_type": "code",
   "execution_count": 372,
   "metadata": {},
   "outputs": [],
   "source": [
    "mm = MinMaxScaler(feature_range = (0,1))\n",
    "training_scaled = mm.fit_transform(data_train)"
   ]
  },
  {
   "cell_type": "code",
   "execution_count": 373,
   "metadata": {},
   "outputs": [],
   "source": [
    "X_train = []\n",
    "Y_train = []\n",
    "\n",
    "lookback = 30\n",
    "\n",
    "for i in range(lookback, len(training_scaled)):\n",
    "    X_train.append(training_scaled[i-lookback:i,0])\n",
    "    Y_train.append(training_scaled[i,0])\n",
    "X_train, Y_train = np.array(X_train), np.array(Y_train)"
   ]
  },
  {
   "cell_type": "code",
   "execution_count": 374,
   "metadata": {},
   "outputs": [],
   "source": [
    "X_train = np.reshape(X_train, (X_train.shape[0], X_train.shape[1], 1))"
   ]
  },
  {
   "cell_type": "code",
   "execution_count": 375,
   "metadata": {},
   "outputs": [],
   "source": [
    "batch_size, time_stamps = X_train.shape[0], X_train.shape[1]"
   ]
  },
  {
   "cell_type": "code",
   "execution_count": 389,
   "metadata": {
    "scrolled": true
   },
   "outputs": [],
   "source": [
    "model = Sequential()\n",
    "model.add(LSTM(units=100, return_sequences=True, input_shape=(X_train.shape[1], 1)))\n",
    "model.add(Dropout(0.2))\n",
    "model.add(LSTM(units=50, return_sequences=True))\n",
    "model.add(Dropout(0.2))\n",
    "model.add(LSTM(units=30, return_sequences=True))#\n",
    "model.add(Dropout(0.2))\n",
    "model.add(LSTM(units=30, return_sequences=True))\n",
    "model.add(Dropout(0.2))\n",
    "model.add(LSTM(units=20))\n",
    "model.add(Dense(units=1))"
   ]
  },
  {
   "cell_type": "code",
   "execution_count": 390,
   "metadata": {},
   "outputs": [],
   "source": [
    "model.compile(optimizer = 'adam', loss='mean_squared_error')"
   ]
  },
  {
   "cell_type": "code",
   "execution_count": 391,
   "metadata": {},
   "outputs": [],
   "source": [
    "# Keras settings\n",
    "earlystop = keras.callbacks.EarlyStopping(monitor='val_loss', min_delta=0, patience=3, verbose=0, mode='auto', baseline=None, restore_best_weights=True)"
   ]
  },
  {
   "cell_type": "code",
   "execution_count": 392,
   "metadata": {
    "scrolled": false
   },
   "outputs": [
    {
     "name": "stdout",
     "output_type": "stream",
     "text": [
      "Train on 1176 samples, validate on 294 samples\n",
      "Epoch 1/50\n",
      "1176/1176 [==============================] - 32s 27ms/step - loss: 0.0594 - val_loss: 0.1068\n",
      "Epoch 2/50\n",
      "1176/1176 [==============================] - 5s 4ms/step - loss: 0.0112 - val_loss: 0.0070\n",
      "Epoch 3/50\n",
      "1176/1176 [==============================] - 4s 4ms/step - loss: 0.0033 - val_loss: 0.0070\n",
      "Epoch 4/50\n",
      "1176/1176 [==============================] - 4s 4ms/step - loss: 0.0026 - val_loss: 0.0062\n",
      "Epoch 5/50\n",
      "1176/1176 [==============================] - 5s 4ms/step - loss: 0.0023 - val_loss: 0.0043\n",
      "Epoch 6/50\n",
      "1176/1176 [==============================] - 4s 4ms/step - loss: 0.0023 - val_loss: 0.0079\n",
      "Epoch 7/50\n",
      "1176/1176 [==============================] - 5s 4ms/step - loss: 0.0021 - val_loss: 0.0035\n",
      "Epoch 8/50\n",
      "1176/1176 [==============================] - 4s 4ms/step - loss: 0.0020 - val_loss: 0.0071\n",
      "Epoch 9/50\n",
      "1176/1176 [==============================] - 4s 4ms/step - loss: 0.0022 - val_loss: 0.0041\n",
      "Epoch 10/50\n",
      "1176/1176 [==============================] - 4s 4ms/step - loss: 0.0018 - val_loss: 0.0036\n"
     ]
    },
    {
     "data": {
      "text/plain": [
       "<keras.callbacks.History at 0x23e19b82f28>"
      ]
     },
     "execution_count": 392,
     "metadata": {},
     "output_type": "execute_result"
    }
   ],
   "source": [
    "model.fit(X_train, Y_train, epochs = 50, batch_size=64, callbacks=[earlystop], validation_split=0.2)"
   ]
  },
  {
   "cell_type": "code",
   "execution_count": 393,
   "metadata": {},
   "outputs": [],
   "source": [
    "testing_scaled = mm.fit_transform(data_test)\n",
    "X_test = []\n",
    "\n",
    "lookback = 30\n",
    "\n",
    "for i in range(lookback, len(testing_scaled)):\n",
    "    X_test.append(testing_scaled[i-lookback:i,0])\n",
    "X_test = np.array(X_test)\n",
    "\n",
    "X_test = np.reshape(X_test, (X_test.shape[0], X_test.shape[1], 1))\n",
    "batch_size, time_stamps = X_test.shape[0], X_test.shape[1]"
   ]
  },
  {
   "cell_type": "code",
   "execution_count": 394,
   "metadata": {},
   "outputs": [],
   "source": [
    "ps = model.predict(X_test)"
   ]
  },
  {
   "cell_type": "code",
   "execution_count": 395,
   "metadata": {},
   "outputs": [],
   "source": [
    "ps2 = mm.inverse_transform(ps)"
   ]
  },
  {
   "cell_type": "code",
   "execution_count": 396,
   "metadata": {},
   "outputs": [],
   "source": [
    "trainPredict = pd.DataFrame(ps2)\n",
    "trainPredict.index += lookback"
   ]
  },
  {
   "cell_type": "code",
   "execution_count": 397,
   "metadata": {},
   "outputs": [
    {
     "data": {
      "image/png": "[encoded data removed]",
      "text/plain": [
       "<Figure size 1152x648 with 1 Axes>"
      ]
     },
     "metadata": {
      "needs_background": "light"
     },
     "output_type": "display_data"
    }
   ],
   "source": [
    "import matplotlib.pyplot as plt\n",
    "from matplotlib.pyplot import figure\n",
    "\n",
    "plt.figure(figsize=(16,9))\n",
    "plt.plot(data_test, color = 'red', label='real')\n",
    "plt.plot(trainPredict, color ='blue', label='pred')\n",
    "plt.xlabel('Time')\n",
    "plt.ylabel('Apple Stock Price')\n",
    "plt.legend()\n",
    "plt.show()"
   ]
  },
  {
   "cell_type": "code",
   "execution_count": 399,
   "metadata": {},
   "outputs": [
    {
     "data": {
      "text/plain": [
       "5.826871696580598"
      ]
     },
     "execution_count": 399,
     "metadata": {},
     "output_type": "execute_result"
    }
   ],
   "source": [
    "rmse_new = sqrt(mean_squared_error(trainPredict.iloc[:334], data_test.iloc[:334]))\n",
    "rmse_new"
   ]
  },
  {
   "cell_type": "code",
   "execution_count": 384,
   "metadata": {},
   "outputs": [
    {
     "data": {
      "image/png": "[encoded data removed]",
      "text/plain": [
       "<Figure size 1152x648 with 1 Axes>"
      ]
     },
     "metadata": {
      "needs_background": "light"
     },
     "output_type": "display_data"
    }
   ],
   "source": [
    "import matplotlib.pyplot as plt\n",
    "from matplotlib.pyplot import figure\n",
    "\n",
    "plt.figure(figsize=(16,9))\n",
    "plt.plot(data_test, color = 'red', label='real')\n",
    "plt.plot(trainPredict, color ='blue', label='pred')\n",
    "plt.xlabel('Time')\n",
    "plt.ylabel('Apple Stock Price')\n",
    "plt.legend()\n",
    "plt.show()"
   ]
  },
  {
   "cell_type": "code",
   "execution_count": 387,
   "metadata": {},
   "outputs": [
    {
     "data": {
      "text/plain": [
       "8.080911892514866"
      ]
     },
     "execution_count": 387,
     "metadata": {},
     "output_type": "execute_result"
    }
   ],
   "source": [
    "rmse_new = sqrt(mean_squared_error(trainPredict.iloc[:334], data_test.iloc[:334]))\n",
    "rmse_new"
   ]
  },
  {
   "cell_type": "code",
   "execution_count": 486,
   "metadata": {},
   "outputs": [
    {
     "data": {
      "text/plain": [
       "array([[ 95.429],\n",
       "       [ 96.657],\n",
       "       [ 96.432],\n",
       "       [ 95.926],\n",
       "       [ 95.955],\n",
       "       [ 96.11 ],\n",
       "       [ 94.777],\n",
       "       [ 95.265],\n",
       "       [ 93.929],\n",
       "       [ 94.095],\n",
       "       [ 93.492],\n",
       "       [ 92.459],\n",
       "       [ 93.735],\n",
       "       [ 93.433],\n",
       "       [ 90.482],\n",
       "       [ 90.57 ],\n",
       "       [ 90.472],\n",
       "       [ 91.515],\n",
       "       [ 91.973],\n",
       "       [ 92.995],\n",
       "       [ 92.898],\n",
       "       [ 92.128],\n",
       "       [ 93.199],\n",
       "       [ 93.969],\n",
       "       [ 94.222],\n",
       "       [ 94.63 ],\n",
       "       [ 94.864],\n",
       "       [ 94.845],\n",
       "       [ 96.334],\n",
       "       [ 96.12 ],\n",
       "       [ 96.959],\n",
       "       [ 97.387],\n",
       "       [ 97.222],\n",
       "       [ 96.666],\n",
       "       [ 95.683],\n",
       "       [ 94.289],\n",
       "       [101.53 ],\n",
       "       [100.15 ],\n",
       "       [101.47 ],\n",
       "       [101.68 ],\n",
       "       [103.28 ],\n",
       "       [102.08 ],\n",
       "       [103.38 ],\n",
       "       [104.06 ],\n",
       "       [105.28 ],\n",
       "       [105.98 ],\n",
       "       [106.44 ],\n",
       "       [106.26 ],\n",
       "       [105.53 ],\n",
       "       [105.89 ],\n",
       "       [107.34 ],\n",
       "       [106.83 ],\n",
       "       [106.96 ],\n",
       "       [106.5  ],\n",
       "       [106.59 ],\n",
       "       [106.33 ],\n",
       "       [106.3  ],\n",
       "       [105.15 ],\n",
       "       [105.17 ],\n",
       "       [104.4  ],\n",
       "       [103.6  ],\n",
       "       [103.46 ],\n",
       "       [103.93 ],\n",
       "       [105.45 ],\n",
       "       [105.65 ],\n",
       "       [105.58 ],\n",
       "       [105.01 ],\n",
       "       [102.46 ],\n",
       "       [100.51 ],\n",
       "       [105.27 ],\n",
       "       [106.46 ],\n",
       "       [111.49 ],\n",
       "       [112.72 ],\n",
       "       [112.79 ],\n",
       "       [110.68 ],\n",
       "       [111.48 ],\n",
       "       [111.97 ],\n",
       "       [112.04 ],\n",
       "       [109.32 ],\n",
       "       [110.63 ],\n",
       "       [111.32 ],\n",
       "       [110.79 ],\n",
       "       [110.12 ],\n",
       "       [110.36 ],\n",
       "       [110.69 ],\n",
       "       [111.03 ],\n",
       "       [111.33 ],\n",
       "       [111.93 ],\n",
       "       [112.63 ],\n",
       "       [115.25 ],\n",
       "       [114.91 ],\n",
       "       [114.35 ],\n",
       "       [115.43 ],\n",
       "       [114.89 ],\n",
       "       [115.71 ],\n",
       "       [114.81 ],\n",
       "       [114.42 ],\n",
       "       [114.37 ],\n",
       "       [114.66 ],\n",
       "       [115.48 ],\n",
       "       [111.93 ],\n",
       "       [112.97 ],\n",
       "       [111.5  ],\n",
       "       [111.28 ],\n",
       "       [111.09 ],\n",
       "       [109.08 ],\n",
       "       [109.23 ],\n",
       "       [106.82 ],\n",
       "       [108.33 ],\n",
       "       [108.56 ],\n",
       "       [108.14 ],\n",
       "       [109.34 ],\n",
       "       [105.42 ],\n",
       "       [106.01 ],\n",
       "       [104.88 ],\n",
       "       [105.01 ],\n",
       "       [108.07 ],\n",
       "       [107.98 ],\n",
       "       [108.37 ],\n",
       "       [110.18 ],\n",
       "       [109.6  ],\n",
       "       [109.38 ],\n",
       "       [109.67 ],\n",
       "       [109.03 ],\n",
       "       [109.84 ],\n",
       "       [108.62 ],\n",
       "       [107.44 ],\n",
       "       [108.26 ],\n",
       "       [107.77 ],\n",
       "       [107.53 ],\n",
       "       [109.11 ],\n",
       "       [110.53 ],\n",
       "       [111.5  ],\n",
       "       [112.04 ],\n",
       "       [113.21 ],\n",
       "       [113.55 ],\n",
       "       [114.63 ],\n",
       "       [113.97 ],\n",
       "       [114.9  ],\n",
       "       [114.96 ],\n",
       "       [114.51 ],\n",
       "       [113.76 ],\n",
       "       [114.68 ],\n",
       "       [115.65 ],\n",
       "       [114.61 ],\n",
       "       [114.81 ],\n",
       "       [113.97 ],\n",
       "       [114.02 ],\n",
       "       [114.09 ],\n",
       "       [114.94 ],\n",
       "       [116.08 ],\n",
       "       [116.89 ],\n",
       "       [116.86 ],\n",
       "       [117.01 ],\n",
       "       [117.23 ],\n",
       "       [116.47 ],\n",
       "       [118.1  ],\n",
       "       [117.51 ],\n",
       "       [118.54 ],\n",
       "       [118.1  ],\n",
       "       [117.66 ],\n",
       "       [118.51 ],\n",
       "       [119.74 ],\n",
       "       [120.21 ],\n",
       "       [119.02 ],\n",
       "       [119.23 ],\n",
       "       [125.02 ],\n",
       "       [125.95 ],\n",
       "       [126.28 ],\n",
       "       [127.08 ],\n",
       "       [128.48 ],\n",
       "       [129.27 ],\n",
       "       [130.13 ],\n",
       "       [130.93 ],\n",
       "       [131.54 ],\n",
       "       [131.93 ],\n",
       "       [133.95 ],\n",
       "       [134.1  ],\n",
       "       [133.53 ],\n",
       "       [134.66 ],\n",
       "       [134.86 ],\n",
       "       [135.79 ],\n",
       "       [134.34 ],\n",
       "       [135.56 ],\n",
       "       [135.5  ],\n",
       "       [136.29 ],\n",
       "       [138.37 ],\n",
       "       [137.18 ],\n",
       "       [137.75 ],\n",
       "       [137.46 ],\n",
       "       [137.35 ],\n",
       "       [137.14 ],\n",
       "       [137.65 ],\n",
       "       [137.56 ],\n",
       "       [137.7  ],\n",
       "       [137.8  ],\n",
       "       [139.09 ],\n",
       "       [139.37 ],\n",
       "       [138.77 ],\n",
       "       [140.48 ],\n",
       "       [138.23 ],\n",
       "       [139.63 ],\n",
       "       [139.87 ],\n",
       "       [137.78 ],\n",
       "       [139.28 ],\n",
       "       [142.02 ],\n",
       "       [142.53 ],\n",
       "       [142.06 ],\n",
       "       [142.05 ],\n",
       "       [141.59 ],\n",
       "       [142.56 ],\n",
       "       [142.63 ],\n",
       "       [142.07 ],\n",
       "       [141.94 ],\n",
       "       [141.28 ],\n",
       "       [139.97 ],\n",
       "       [140.28 ],\n",
       "       [139.85 ],\n",
       "       [139.78 ],\n",
       "       [140.25 ],\n",
       "       [139.59 ],\n",
       "       [140.79 ],\n",
       "       [141.84 ],\n",
       "       [142.25 ],\n",
       "       [142.81 ],\n",
       "       [142.26 ],\n",
       "       [142.43 ],\n",
       "       [143.41 ],\n",
       "       [145.84 ],\n",
       "       [143.9  ],\n",
       "       [144.83 ],\n",
       "       [145.07 ],\n",
       "       [147.31 ],\n",
       "       [152.09 ],\n",
       "       [151.85 ],\n",
       "       [151.31 ],\n",
       "       [153.54 ],\n",
       "       [154.84 ],\n",
       "       [154.77 ],\n",
       "       [152.45 ],\n",
       "       [150.14 ],\n",
       "       [152.23 ],\n",
       "       [152.85 ],\n",
       "       [153.74 ],\n",
       "       [152.69 ],\n",
       "       [152.58 ],\n",
       "       [152.85 ],\n",
       "       [152.27 ],\n",
       "       [152.82 ],\n",
       "       [152.02 ],\n",
       "       [152.43 ],\n",
       "       [153.19 ],\n",
       "       [152.75 ],\n",
       "       [153.86 ],\n",
       "       [154.09 ],\n",
       "       [154.03 ],\n",
       "       [144.65 ],\n",
       "       [146.05 ],\n",
       "       [146.39 ],\n",
       "       [142.25 ],\n",
       "       [142.71 ],\n",
       "       [142.59 ],\n",
       "       [145.78 ],\n",
       "       [144.43 ],\n",
       "       [144.68 ],\n",
       "       [144.04 ],\n",
       "       [146.06 ],\n",
       "       [143.92 ],\n",
       "       [143.4  ],\n",
       "       [143.62 ],\n",
       "       [143.36 ],\n",
       "       [143.79 ],\n",
       "       [142.62 ],\n",
       "       [141.95 ],\n",
       "       [141.83 ],\n",
       "       [143.04 ],\n",
       "       [143.64 ],\n",
       "       [144.78 ],\n",
       "       [144.41 ],\n",
       "       [146.86 ],\n",
       "       [147.71 ],\n",
       "       [148.09 ],\n",
       "       [149.35 ],\n",
       "       [150.37 ],\n",
       "       [148.86 ],\n",
       "       [149.45 ],\n",
       "       [150.67 ],\n",
       "       [152.2  ],\n",
       "       [152.6  ],\n",
       "       [148.77 ],\n",
       "       [148.78 ],\n",
       "       [147.99 ],\n",
       "       [158.09 ],\n",
       "       [155.88 ],\n",
       "       [154.9  ],\n",
       "       [155.89 ],\n",
       "       [157.41 ],\n",
       "       [158.07 ],\n",
       "       [159.33 ],\n",
       "       [156.04 ],\n",
       "       [158.75 ],\n",
       "       [160.08 ],\n",
       "       [161.36 ],\n",
       "       [159.95 ],\n",
       "       [157.29 ],\n",
       "       [156.94 ],\n",
       "       [157.66 ],\n",
       "       [158.5  ],\n",
       "       [159.86 ],\n",
       "       [159.08 ],\n",
       "       [159.57 ],\n",
       "       [159.53 ],\n",
       "       [163.21 ],\n",
       "       [163.05 ],\n",
       "       [164.21 ],\n",
       "       [163.16 ],\n",
       "       [162.13 ],\n",
       "       [161.51 ],\n",
       "       [160.28 ],\n",
       "       [159.93 ],\n",
       "       [162.03 ],\n",
       "       [159.3  ],\n",
       "       [158.42 ],\n",
       "       [157.9  ],\n",
       "       [159.54 ],\n",
       "       [158.94 ],\n",
       "       [157.33 ],\n",
       "       [155.24 ],\n",
       "       [151.48 ],\n",
       "       [149.45 ],\n",
       "       [151.24 ],\n",
       "       [153.25 ],\n",
       "       [153.34 ],\n",
       "       [152.66 ],\n",
       "       [153.71 ],\n",
       "       [153.46 ],\n",
       "       [153.08 ],\n",
       "       [153.63 ],\n",
       "       [154.41 ],\n",
       "       [155.25 ],\n",
       "       [155.5  ],\n",
       "       [155.41 ],\n",
       "       [155.79 ],\n",
       "       [156.17 ],\n",
       "       [157.33 ],\n",
       "       [159.21 ],\n",
       "       [159.85 ],\n",
       "       [156.19 ],\n",
       "       [156.05 ],\n",
       "       [156.33 ],\n",
       "       [155.73 ],\n",
       "       [156.35 ],\n",
       "       [156.67 ],\n",
       "       [158.72 ],\n",
       "       [163.3  ],\n",
       "       [167.3  ],\n",
       "       [169.26 ],\n",
       "       [167.04 ],\n",
       "       [173.38 ],\n",
       "       [171.75 ],\n",
       "       [173.29 ],\n",
       "       [174.03 ],\n",
       "       [174.48 ],\n",
       "       [175.11 ]])"
      ]
     },
     "execution_count": 486,
     "metadata": {},
     "output_type": "execute_result"
    }
   ],
   "source": [
    "data_full"
   ]
  },
  {
   "cell_type": "markdown",
   "metadata": {},
   "source": [
    "## Multivariate"
   ]
  },
  {
   "cell_type": "code",
   "execution_count": 495,
   "metadata": {},
   "outputs": [
    {
     "data": {
      "text/html": [
       "<div>\n",
       "<style scoped>\n",
       "    .dataframe tbody tr th:only-of-type {\n",
       "        vertical-align: middle;\n",
       "    }\n",
       "\n",
       "    .dataframe tbody tr th {\n",
       "        vertical-align: top;\n",
       "    }\n",
       "\n",
       "    .dataframe thead th {\n",
       "        text-align: right;\n",
       "    }\n",
       "</style>\n",
       "<table border=\"1\" class=\"dataframe\">\n",
       "  <thead>\n",
       "    <tr style=\"text-align: right;\">\n",
       "      <th></th>\n",
       "      <th>Date</th>\n",
       "      <th>Open</th>\n",
       "      <th>High</th>\n",
       "      <th>Low</th>\n",
       "      <th>Close</th>\n",
       "      <th>Volume</th>\n",
       "      <th>OpenInt</th>\n",
       "    </tr>\n",
       "  </thead>\n",
       "  <tbody>\n",
       "    <tr>\n",
       "      <th>0</th>\n",
       "      <td>1984-09-07</td>\n",
       "      <td>0.42388</td>\n",
       "      <td>0.42902</td>\n",
       "      <td>0.41874</td>\n",
       "      <td>0.42388</td>\n",
       "      <td>23220030</td>\n",
       "      <td>0</td>\n",
       "    </tr>\n",
       "  </tbody>\n",
       "</table>\n",
       "</div>"
      ],
      "text/plain": [
       "         Date     Open     High      Low    Close    Volume  OpenInt\n",
       "0  1984-09-07  0.42388  0.42902  0.41874  0.42388  23220030        0"
      ]
     },
     "execution_count": 495,
     "metadata": {},
     "output_type": "execute_result"
    }
   ],
   "source": [
    "data.head(1)"
   ]
  },
  {
   "cell_type": "code",
   "execution_count": 562,
   "metadata": {},
   "outputs": [],
   "source": [
    "n_features = 3\n",
    "data_train = data.iloc[0:7000, [1,4,5]].values\n",
    "data_test = data.iloc[7000:, 1:n_features].values"
   ]
  },
  {
   "cell_type": "code",
   "execution_count": 563,
   "metadata": {},
   "outputs": [],
   "source": [
    "data_full = data.iloc[7000:, 1:2].values"
   ]
  },
  {
   "cell_type": "code",
   "execution_count": 564,
   "metadata": {},
   "outputs": [],
   "source": [
    "mm = MinMaxScaler(feature_range = (0,1))\n",
    "training_scaled = mm.fit_transform(data_train)"
   ]
  },
  {
   "cell_type": "code",
   "execution_count": 566,
   "metadata": {},
   "outputs": [],
   "source": [
    "X_train = []\n",
    "Y_train = []\n",
    "\n",
    "lookback = 30\n",
    "\n",
    "for i in range(lookback, len(training_scaled)):\n",
    "    X_train.append(training_scaled[i-lookback:i,:]) # last : to use all features\n",
    "    Y_train.append(training_scaled[i,0])\n",
    "X_train, Y_train = np.array(X_train), np.array(Y_train)\n",
    "\n",
    "X_train = np.reshape(X_train, (X_train.shape[0], X_train.shape[1], n_features))\n",
    "\n",
    "batch_size, time_stamps = X_train.shape[0], X_train.shape[1]"
   ]
  },
  {
   "cell_type": "code",
   "execution_count": 567,
   "metadata": {},
   "outputs": [],
   "source": [
    "# Keras settings\n",
    "earlystop = keras.callbacks.EarlyStopping(monitor='val_loss', min_delta=0, patience=3, verbose=0, mode='auto', baseline=None, restore_best_weights=True)"
   ]
  },
  {
   "cell_type": "code",
   "execution_count": 568,
   "metadata": {
    "scrolled": true
   },
   "outputs": [],
   "source": [
    "model = Sequential()\n",
    "model.add(LSTM(units=100, return_sequences=True, input_shape=(X_train.shape[1], n_features)))\n",
    "model.add(Dropout(0.5))\n",
    "model.add(LSTM(units=50, return_sequences=True))\n",
    "model.add(Dropout(0.25))\n",
    "model.add(LSTM(units=30, return_sequences=False))\n",
    "model.add(Dropout(0.2))\n",
    "model.add(Dense(units=1))"
   ]
  },
  {
   "cell_type": "code",
   "execution_count": 569,
   "metadata": {},
   "outputs": [
    {
     "name": "stdout",
     "output_type": "stream",
     "text": [
      "_________________________________________________________________\n",
      "Layer (type)                 Output Shape              Param #   \n",
      "=================================================================\n",
      "lstm_163 (LSTM)              (None, 30, 100)           41600     \n",
      "_________________________________________________________________\n",
      "dropout_146 (Dropout)        (None, 30, 100)           0         \n",
      "_________________________________________________________________\n",
      "lstm_164 (LSTM)              (None, 30, 50)            30200     \n",
      "_________________________________________________________________\n",
      "dropout_147 (Dropout)        (None, 30, 50)            0         \n",
      "_________________________________________________________________\n",
      "lstm_165 (LSTM)              (None, 30)                9720      \n",
      "_________________________________________________________________\n",
      "dropout_148 (Dropout)        (None, 30)                0         \n",
      "_________________________________________________________________\n",
      "dense_41 (Dense)             (None, 1)                 31        \n",
      "=================================================================\n",
      "Total params: 81,551\n",
      "Trainable params: 81,551\n",
      "Non-trainable params: 0\n",
      "_________________________________________________________________\n"
     ]
    }
   ],
   "source": [
    "model.summary()"
   ]
  },
  {
   "cell_type": "code",
   "execution_count": 570,
   "metadata": {},
   "outputs": [],
   "source": [
    "model.compile(optimizer = 'adam', loss = 'mae')"
   ]
  },
  {
   "cell_type": "code",
   "execution_count": 547,
   "metadata": {
    "scrolled": true
   },
   "outputs": [
    {
     "name": "stdout",
     "output_type": "stream",
     "text": [
      "Train on 5576 samples, validate on 1394 samples\n",
      "Epoch 1/20\n",
      "5576/5576 [==============================] - 82s 15ms/step - loss: 0.0038 - val_loss: 0.0853\n",
      "Epoch 2/20\n",
      "5576/5576 [==============================] - 57s 10ms/step - loss: 0.0029 - val_loss: 0.0508\n",
      "Epoch 3/20\n",
      "5576/5576 [==============================] - 58s 10ms/step - loss: 0.0027 - val_loss: 0.0863\n",
      "Epoch 4/20\n",
      "5576/5576 [==============================] - 73s 13ms/step - loss: 0.0025 - val_loss: 0.0863\n",
      "Epoch 5/20\n",
      "5576/5576 [==============================] - 88s 16ms/step - loss: 0.0024 - val_loss: 0.0926\n"
     ]
    }
   ],
   "source": [
    "history = model.fit(X_train, Y_train, batch_size=16, epochs=20, verbose=1, callbacks=[earlystop], validation_split=0.2)"
   ]
  },
  {
   "cell_type": "code",
   "execution_count": 548,
   "metadata": {},
   "outputs": [
    {
     "name": "stdout",
     "output_type": "stream",
     "text": [
      "dict_keys(['val_loss', 'loss'])\n"
     ]
    },
    {
     "data": {
      "image/png": "[encoded data removed]",
      "text/plain": [
       "<Figure size 1152x648 with 1 Axes>"
      ]
     },
     "metadata": {
      "needs_background": "light"
     },
     "output_type": "display_data"
    }
   ],
   "source": [
    "# list all data in history\n",
    "print(history.history.keys())\n",
    "\n",
    "# summarize history for loss\n",
    "plt.figure(figsize=(16,9))\n",
    "plt.plot(history.history['loss'])\n",
    "plt.plot(history.history['val_loss'])\n",
    "plt.title('model loss')\n",
    "plt.ylabel('loss')\n",
    "plt.xlabel('epoch')\n",
    "plt.legend(['train', 'test'], loc='upper left')\n",
    "plt.show()"
   ]
  },
  {
   "cell_type": "code",
   "execution_count": 549,
   "metadata": {},
   "outputs": [],
   "source": [
    "testing_scaled = mm.fit_transform(data_test)\n",
    "X_test = []\n",
    "\n",
    "lookback = 30\n",
    "\n",
    "for i in range(lookback, len(testing_scaled)):\n",
    "    X_test.append(testing_scaled[i-lookback:i,:])\n",
    "X_test = np.array(X_test)\n",
    "\n",
    "X_test = np.reshape(X_test, (X_test.shape[0], X_test.shape[1], n_features-1))\n",
    "batch_size, time_stamps = X_test.shape[0], X_test.shape[1]"
   ]
  },
  {
   "cell_type": "code",
   "execution_count": 550,
   "metadata": {},
   "outputs": [],
   "source": [
    "ps = model.predict(X_test)"
   ]
  },
  {
   "cell_type": "code",
   "execution_count": 551,
   "metadata": {},
   "outputs": [],
   "source": [
    "# create empty table with 12 fields\n",
    "trainPredict_dataset_like = np.zeros(shape=(len(ps), n_features-1) )\n",
    "# put the predicted values in the right field\n",
    "trainPredict_dataset_like[:,0] = ps[:,0]\n",
    "# inverse transform and then select the right field\n",
    "trainPredict = mm.inverse_transform(trainPredict_dataset_like)[:,0]"
   ]
  },
  {
   "cell_type": "code",
   "execution_count": 552,
   "metadata": {},
   "outputs": [],
   "source": [
    "trainPredict = pd.DataFrame(trainPredict)\n",
    "trainPredict.index += lookback"
   ]
  },
  {
   "cell_type": "code",
   "execution_count": 553,
   "metadata": {},
   "outputs": [
    {
     "data": {
      "image/png": "[encoded data removed]",
      "text/plain": [
       "<Figure size 1152x648 with 1 Axes>"
      ]
     },
     "metadata": {
      "needs_background": "light"
     },
     "output_type": "display_data"
    }
   ],
   "source": [
    "import matplotlib.pyplot as plt\n",
    "from matplotlib.pyplot import figure\n",
    "\n",
    "plt.figure(figsize=(16,9))\n",
    "plt.plot(data_full, color = 'red', label='real')\n",
    "plt.plot(trainPredict, color ='blue', label='pred')\n",
    "plt.xlabel('Time')\n",
    "plt.ylabel('Apple Stock Price')\n",
    "plt.legend()\n",
    "plt.show()"
   ]
  },
  {
   "cell_type": "code",
   "execution_count": 554,
   "metadata": {},
   "outputs": [
    {
     "data": {
      "text/plain": [
       "5.644187888916114"
      ]
     },
     "execution_count": 554,
     "metadata": {},
     "output_type": "execute_result"
    }
   ],
   "source": [
    "rmse = sqrt(mean_squared_error(trainPredict.iloc[:334], pd.DataFrame(data_full).iloc[:334]))\n",
    "rmse"
   ]
  },
  {
   "cell_type": "code",
   "execution_count": 543,
   "metadata": {},
   "outputs": [
    {
     "data": {
      "text/plain": [
       "5.414619753480879"
      ]
     },
     "execution_count": 543,
     "metadata": {},
     "output_type": "execute_result"
    }
   ],
   "source": [
    "rmse = sqrt(mean_squared_error(trainPredict.iloc[:334], pd.DataFrame(data_full).iloc[:334]))\n",
    "rmse"
   ]
  }
 ],
 "metadata": {
  "kernelspec": {
   "display_name": "Python 3",
   "language": "python",
   "name": "python3"
  },
  "language_info": {
   "codemirror_mode": {
    "name": "ipython",
    "version": 3
   },
   "file_extension": ".py",
   "mimetype": "text/x-python",
   "name": "python",
   "nbconvert_exporter": "python",
   "pygments_lexer": "ipython3",
   "version": "3.6.8"
  }
 },
 "nbformat": 4,
 "nbformat_minor": 2
}
